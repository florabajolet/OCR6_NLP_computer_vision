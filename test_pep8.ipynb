{
    "cells": [
        {
            "cell_type": "code",
            "execution_count": null,
            "metadata": {},
            "outputs": [],
            "source": [
                "import math, sys;"
            ]
        },
        {
            "cell_type": "code",
            "execution_count": null,
            "metadata": {},
            "outputs": [],
            "source": [
                "def example1():\n",
                "    ####This is a long comment. This should be wrapped to fit within 72 characters.\n",
                "    some_tuple=(   1,2, 3,'a'  );\n",
                "    some_variable={'long':'Long code lines should be wrapped within 79 characters.',\n",
                "    'other':[math.pi, 100,200,300,9876543210,'This is a long string that goes on'],\n",
                "    'more':{'inner':'This whole logical line should be wrapped.',some_tuple:[1,\n",
                "    20,300,40000,500000000,60000000000000000]}}\n",
                "    return (some_tuple, some_variable)"
            ]
        },
        {
            "cell_type": "markdown",
            "metadata": {},
            "source": [
                "Some markdown here..."
            ]
        },
        {
            "cell_type": "code",
            "execution_count": null,
            "metadata": {},
            "outputs": [],
            "source": [
                "def example2(): return {'has_key() is deprecated':True}.has_key({'f':2}.has_key(''));\n",
                "class Example3(   object ):\n",
                "    def __init__    ( self, bar ):\n",
                "     #Comments should have a space after the hash.\n",
                "     if bar : bar+=1;  bar=bar* bar   ; return bar\n",
                "     else:\n",
                "                    some_string = \"\"\"\n",
                "                       Indentation in multiline strings should not be touched.\n",
                "Only actual code should be reindented.\n",
                "\"\"\"\n",
                "                    return (sys.path, some_string)"
            ]
        },
        {
            "cell_type": "code",
            "execution_count": null,
            "metadata": {},
            "outputs": [],
            "source": []
        },
        {
            "cell_type": "code",
            "execution_count": null,
            "metadata": {},
            "outputs": [],
            "source": []
        },
        {
            "cell_type": "code",
            "execution_count": null,
            "metadata": {},
            "outputs": [],
            "source": []
        },
        {
            "cell_type": "code",
            "execution_count": null,
            "metadata": {},
            "outputs": [],
            "source": []
        },
        {
            "cell_type": "code",
            "execution_count": null,
            "metadata": {},
            "outputs": [],
            "source": []
        }
    ],
    "metadata": {
        "interpreter": {
            "hash": "ef7f9a8012d9131766e31894c279374cc63c73121ed4db3b9e67a294a4bf0e74"
        },
        "kernelspec": {
            "display_name": "Python 3.8.8 ('base')",
            "language": "python",
            "name": "python3"
        },
        "language_info": {
            "name": "python",
            "version": "3.8.8"
        },
        "orig_nbformat": 4
    },
    "nbformat": 4,
    "nbformat_minor": 2
}
